{
 "cells": [
  {
   "cell_type": "markdown",
   "id": "4926d3d8-9495-4628-a71d-a29a9459b984",
   "metadata": {},
   "source": [
    "# students-to-course-assigner"
   ]
  },
  {
   "cell_type": "markdown",
   "id": "9addbd73-519d-4566-8545-0ea7fb419675",
   "metadata": {},
   "source": [
    "## Imports"
   ]
  },
  {
   "cell_type": "code",
   "execution_count": null,
   "id": "5f1e028e-6a51-4776-b0d1-08f6adebacf1",
   "metadata": {},
   "outputs": [],
   "source": [
    "import os\n",
    "\n",
    "import pandas as pd\n",
    "import math\n",
    "\n",
    "from dataclasses import dataclass, field\n",
    "from typing import List\n",
    "\n",
    "import random\n",
    "\n",
    "from collections import defaultdict"
   ]
  },
  {
   "cell_type": "markdown",
   "id": "ec291105-0f76-4d56-be1b-f295cbed0f69",
   "metadata": {},
   "source": [
    "## Read data"
   ]
  },
  {
   "cell_type": "code",
   "execution_count": null,
   "id": "62d8de20-07ea-41f2-9df9-03f91233294a",
   "metadata": {},
   "outputs": [],
   "source": [
    "excel_path = os.path.join(\"data\", \"InputNeufeld_Dez2023.xlsx\")"
   ]
  },
  {
   "cell_type": "code",
   "execution_count": null,
   "id": "689dd412-3a1e-43ce-816a-cf1269ae97fe",
   "metadata": {},
   "outputs": [],
   "source": [
    "df_students = pd.read_excel(excel_path, sheet_name=\"Rohdaten\").fillna(\"\").reset_index()\n",
    "df_courses = pd.read_excel(excel_path, sheet_name=\"Module\")"
   ]
  },
  {
   "cell_type": "code",
   "execution_count": null,
   "id": "8073d331-7359-4cbc-ab1b-bdbe80656713",
   "metadata": {},
   "outputs": [],
   "source": [
    "df_students.head()"
   ]
  },
  {
   "cell_type": "code",
   "execution_count": null,
   "id": "e1d25bc7-4bcf-4e20-b788-dec942ca2098",
   "metadata": {},
   "outputs": [],
   "source": [
    "df_courses.head().fillna(\"\")"
   ]
  },
  {
   "cell_type": "code",
   "execution_count": null,
   "id": "249f0ee7-fd76-48b9-95aa-4d02339d345d",
   "metadata": {},
   "outputs": [],
   "source": [
    "@dataclass\n",
    "class Student:\n",
    "    id_: int\n",
    "    first_name: str\n",
    "    last_name: str\n",
    "    desired_courses: List[str]\n",
    "    assigned_course: str = None"
   ]
  },
  {
   "cell_type": "code",
   "execution_count": null,
   "id": "57dc7e8d-3508-4181-b9c1-f9a0b553d4dd",
   "metadata": {},
   "outputs": [],
   "source": [
    "s = Student(1, \"j\", \"l\", [\"a1\", \"a2\", \"a3\"])"
   ]
  },
  {
   "cell_type": "code",
   "execution_count": null,
   "id": "b46564b1-915c-44a4-917d-c9bb648c144d",
   "metadata": {},
   "outputs": [],
   "source": [
    "s"
   ]
  },
  {
   "cell_type": "code",
   "execution_count": null,
   "id": "a814330c-7070-47d2-9695-d32974ceb5f0",
   "metadata": {},
   "outputs": [],
   "source": [
    "student_per_student_id = {}\n",
    "for e in df_students.to_dict(orient=\"records\"):\n",
    "    cs = []\n",
    "    for i in range(1, 5):\n",
    "        c = e[f\"Def B - {i}. Prio\"].replace(\" \", \"\")\n",
    "        cs += [c]\n",
    "    if not all(not c for c in cs):\n",
    "        if any(not c for c in cs):\n",
    "            print(f\"student has not all courses not defined, but any: {e}\")\n",
    "        else:\n",
    "            id_ = e[\"index\"]\n",
    "            student_per_student_id[id_] = Student(id_, e[\"Vorname\"], e[\"Name\"], cs)\n",
    "    else:\n",
    "        print(f\"student has all courses not defined: {e}\")"
   ]
  },
  {
   "cell_type": "code",
   "execution_count": null,
   "id": "0a1c2dca-947a-4a62-bf7f-fcb5c8a1e949",
   "metadata": {},
   "outputs": [],
   "source": [
    "print(len(student_per_student_id))"
   ]
  },
  {
   "cell_type": "code",
   "execution_count": null,
   "id": "e0b28a7b-8fc5-45a9-bb75-abf932bd12e4",
   "metadata": {},
   "outputs": [],
   "source": [
    "@dataclass\n",
    "class Course:\n",
    "    id_: str\n",
    "    min_students: int\n",
    "    max_students: int\n",
    "    nb_wishes: int = 0\n",
    "    assigned_students: List[int] = field(default_factory=lambda : [])\n",
    "    def assign_if_possible(self, student):\n",
    "        if len(self.assigned_students) < self.max_students:\n",
    "            self.assigned_students += [student]\n",
    "            student.assigned_course = self"
   ]
  },
  {
   "cell_type": "code",
   "execution_count": null,
   "id": "866e6b98-2114-4c3d-bebb-8977fe362cc4",
   "metadata": {},
   "outputs": [],
   "source": [
    "course_per_course_id = {}\n",
    "for e in df_courses.to_dict(orient=\"records\"):\n",
    "    id_ = e[\"Module\"]\n",
    "    if id_.startswith(\"B\"):\n",
    "        course_per_course_id[id_] = Course(id_, e[\"Min\"], e[\"Max\"])"
   ]
  },
  {
   "cell_type": "code",
   "execution_count": null,
   "id": "017152cb-836e-4612-b49d-d960502a9b48",
   "metadata": {},
   "outputs": [],
   "source": [
    "print(len(course_per_course_id))"
   ]
  },
  {
   "cell_type": "code",
   "execution_count": null,
   "id": "797047fd-202e-4c6b-aa3b-03f064fec5bd",
   "metadata": {},
   "outputs": [],
   "source": [
    "nb_wishes_per_course_id = defaultdict(int)\n",
    "for s in student_per_student_id.values():\n",
    "    for c_id in s.desired_courses:\n",
    "        nb_wishes_per_course_id[c_id] += 1\n",
    "for c in course_per_course_id.values():\n",
    "    c.nb_wishes = nb_wishes_per_course_id[c.id_]"
   ]
  },
  {
   "cell_type": "code",
   "execution_count": null,
   "id": "7076c4df-39b9-4fd9-a068-72d1bfd9f172",
   "metadata": {},
   "outputs": [],
   "source": [
    "courses_to_remove = []\n",
    "for c in course_per_course_id.values():\n",
    "    if c.nb_wishes < c.min_students:\n",
    "        courses_to_remove += [c]\n",
    "for c in courses_to_remove:\n",
    "    print(f\"course {c} has not enough wishes, is removed\")\n",
    "    del course_per_course_id[c.id_]"
   ]
  },
  {
   "cell_type": "markdown",
   "id": "41379852-84f2-4c7e-822c-3a8908963863",
   "metadata": {},
   "source": [
    "## Heuristic approach"
   ]
  },
  {
   "cell_type": "code",
   "execution_count": null,
   "id": "69d67a0a-c12f-44f8-bc30-b17229019e5f",
   "metadata": {},
   "outputs": [],
   "source": [
    "def init_assignment():\n",
    "    for s in student_per_student_id.values():\n",
    "        s.assigned_course = None\n",
    "    for c in course_per_course_id.values():\n",
    "        c.assigned_students = []"
   ]
  },
  {
   "cell_type": "code",
   "execution_count": null,
   "id": "39dacf73-2281-4a44-931d-23546a84b0fd",
   "metadata": {},
   "outputs": [],
   "source": [
    "def shuffle_list(ls):\n",
    "    random.shuffle(ls)\n",
    "    return ls"
   ]
  },
  {
   "cell_type": "code",
   "execution_count": null,
   "id": "23e3708d-da4e-4564-b570-e4e960e8076d",
   "metadata": {},
   "outputs": [],
   "source": [
    "init_assignment()\n",
    "for s in shuffle_list(list(student_per_student_id.values())):\n",
    "    n = len(s.desired_courses)\n",
    "    a_desired_course = s.desired_courses[random.randint(0, n-1)]\n",
    "    course = course_per_course_id[a_desired_course]\n",
    "    course.assign_if_possible(s)"
   ]
  },
  {
   "cell_type": "code",
   "execution_count": null,
   "id": "b28ee7f0-30a8-48c3-9104-c63c69d28615",
   "metadata": {},
   "outputs": [],
   "source": [
    "students_without_course = [s for s in student_per_student_id.values() if s.assigned_course is None]\n",
    "print(len(students_without_course))"
   ]
  },
  {
   "cell_type": "code",
   "execution_count": null,
   "id": "13625702-76ae-4515-a7f1-e5084fca3208",
   "metadata": {},
   "outputs": [],
   "source": [
    "for c in course_per_course_id.values():\n",
    "    print(c.id_, c.min_students, c.max_students, c.nb_wishes / 4, len(c.assigned_students), c.nb_wishes < c.min_students)"
   ]
  },
  {
   "cell_type": "markdown",
   "id": "8245abdc-6c06-41e1-9ff7-ecc8a8bbc305",
   "metadata": {},
   "source": [
    "## With integer programming"
   ]
  },
  {
   "cell_type": "code",
   "execution_count": null,
   "id": "75f54a32-d955-45fb-8268-b63ffaf1969b",
   "metadata": {},
   "outputs": [],
   "source": [
    "from ortools.sat.python import cp_model"
   ]
  },
  {
   "cell_type": "code",
   "execution_count": null,
   "id": "48ead4a3-b615-4922-99f3-4d075e142c6a",
   "metadata": {},
   "outputs": [],
   "source": [
    "model = cp_model.CpModel()"
   ]
  },
  {
   "cell_type": "code",
   "execution_count": null,
   "id": "cb8783af-e8b7-40d7-834e-9d73154aab71",
   "metadata": {},
   "outputs": [],
   "source": [
    "x = {}\n",
    "for student_ind, _ in enumerate(student_per_student_id.values()):\n",
    "    for course_ind, _ in enumerate(course_per_course_id.values()):\n",
    "        x[student_ind, course_ind] = model.NewBoolVar(f\"x[{student_ind},{course_ind}]\")"
   ]
  },
  {
   "cell_type": "code",
   "execution_count": null,
   "id": "9cbfc6eb-de43-4b09-9b3b-34e8bc23dc0a",
   "metadata": {},
   "outputs": [],
   "source": [
    "# Each student is assigned to exactly one course.\n",
    "for student_ind, _ in enumerate(student_per_student_id.values()):\n",
    "    model.AddExactlyOne(x[student_ind, course_ind] for (course_ind, course) in enumerate(course_per_course_id.values()))"
   ]
  },
  {
   "cell_type": "code",
   "execution_count": null,
   "id": "3f9c904e-b194-45a0-a51c-6f6d0c6869fa",
   "metadata": {},
   "outputs": [],
   "source": [
    "# Each course takes at most n students\n",
    "for course_ind, course in enumerate(course_per_course_id.values()):\n",
    "    model.Add(sum([x[student_ind, course_ind] for (student_ind, _) in enumerate(student_per_student_id.values())]) >= course.min_students)\n",
    "    model.Add(sum([x[student_ind, course_ind] for (student_ind, _) in enumerate(student_per_student_id.values())]) <= course.max_students)"
   ]
  },
  {
   "cell_type": "code",
   "execution_count": null,
   "id": "985321cf-2103-42fc-ab60-77c4ef1a6cff",
   "metadata": {},
   "outputs": [],
   "source": [
    "def costs(student, course_id):\n",
    "    if course_id in student.desired_courses:\n",
    "        return student.desired_courses.index(course_id)\n",
    "    else:\n",
    "        return 1000"
   ]
  },
  {
   "cell_type": "code",
   "execution_count": null,
   "id": "95bfae27-784d-48a2-af39-37fdf5b94e43",
   "metadata": {},
   "outputs": [],
   "source": [
    "a_student = list(student_per_student_id.values())[10]\n",
    "print(a_student)"
   ]
  },
  {
   "cell_type": "code",
   "execution_count": null,
   "id": "f5fde4d9-32f1-42d1-89f7-64e1ea75a3ee",
   "metadata": {},
   "outputs": [],
   "source": [
    "costs(a_student, \"B21\")"
   ]
  },
  {
   "cell_type": "code",
   "execution_count": null,
   "id": "a4e4ad49-f850-45fb-9343-8d1efb75823a",
   "metadata": {},
   "outputs": [],
   "source": [
    "objective_terms = []\n",
    "for student_ind, student in enumerate(student_per_student_id.values()):\n",
    "    for course_ind, course in enumerate(course_per_course_id.values()):\n",
    "        objective_terms += [costs(student, course.id_) * x[student_ind, course_ind]]\n",
    "model.Minimize(sum(objective_terms))"
   ]
  },
  {
   "cell_type": "code",
   "execution_count": null,
   "id": "8cf13a68-44d5-44c6-b307-29899f0715d4",
   "metadata": {},
   "outputs": [],
   "source": [
    "solver = cp_model.CpSolver()"
   ]
  },
  {
   "cell_type": "code",
   "execution_count": null,
   "id": "f34c9ae5-c3d1-4d80-a5b1-cb2a3e6ee13b",
   "metadata": {},
   "outputs": [],
   "source": [
    "status = solver.Solve(model)"
   ]
  },
  {
   "cell_type": "code",
   "execution_count": null,
   "id": "e5383fd3-f84d-417a-9315-c91952256885",
   "metadata": {},
   "outputs": [],
   "source": [
    "if status == cp_model.OPTIMAL or status == cp_model.FEASIBLE:\n",
    "    print(f\"Total cost = {solver.ObjectiveValue()}\\n\")\n",
    "    for student_ind, student in enumerate(student_per_student_id.values()):\n",
    "        for course_ind, course in enumerate(course_per_course_id.values()):\n",
    "            if solver.BooleanValue(x[student_ind, course_ind]):\n",
    "                student.assigned_course = course.id_\n",
    "                course.assigned_students += [student]\n",
    "else:\n",
    "    print(\"No solution found.\")"
   ]
  },
  {
   "cell_type": "code",
   "execution_count": null,
   "id": "b5279331-b4d9-4322-a239-6e744f0adf9d",
   "metadata": {},
   "outputs": [],
   "source": [
    "students_without_course = [s for s in student_per_student_id.values() if s.assigned_course is None]\n",
    "print(len(students_without_course))"
   ]
  },
  {
   "cell_type": "code",
   "execution_count": null,
   "id": "76bc08ad-3199-468a-83e3-84647e95150f",
   "metadata": {},
   "outputs": [],
   "source": [
    "students_with_not_desired_course = [s for s in student_per_student_id.values() if not s.assigned_course in s.desired_courses]\n",
    "print(len(students_with_not_desired_course))"
   ]
  },
  {
   "cell_type": "code",
   "execution_count": null,
   "id": "2f640e23-de3d-4e72-a55a-0e674ad37e50",
   "metadata": {},
   "outputs": [],
   "source": [
    "for course in course_per_course_id.values():\n",
    "    nb_students = len(course.assigned_students)\n",
    "    if nb_students < course.min_students:\n",
    "        print(f\"not enough students: {course, nb_students}\")\n",
    "    if nb_students > course.max_students:\n",
    "        print(f\"too much students: {course, nb_students}\")"
   ]
  },
  {
   "cell_type": "code",
   "execution_count": null,
   "id": "1a185cf2-2456-4b34-b12e-409b0deb7909",
   "metadata": {},
   "outputs": [],
   "source": [
    "for c in course_per_course_id.values():\n",
    "    print(c.id_, c.min_students, c.max_students, c.nb_wishes, len(c.assigned_students))"
   ]
  },
  {
   "cell_type": "code",
   "execution_count": null,
   "id": "1807588d-b6a8-4c8c-bfe2-a987457134ee",
   "metadata": {},
   "outputs": [],
   "source": []
  },
  {
   "cell_type": "code",
   "execution_count": null,
   "id": "748e93a0-2d96-46af-baa3-00a9886eb402",
   "metadata": {},
   "outputs": [],
   "source": []
  }
 ],
 "metadata": {
  "kernelspec": {
   "display_name": "Python 3 (ipykernel)",
   "language": "python",
   "name": "python3"
  },
  "language_info": {
   "codemirror_mode": {
    "name": "ipython",
    "version": 3
   },
   "file_extension": ".py",
   "mimetype": "text/x-python",
   "name": "python",
   "nbconvert_exporter": "python",
   "pygments_lexer": "ipython3",
   "version": "3.8.1"
  }
 },
 "nbformat": 4,
 "nbformat_minor": 5
}

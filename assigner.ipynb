{
 "cells": [
  {
   "cell_type": "markdown",
   "id": "4926d3d8-9495-4628-a71d-a29a9459b984",
   "metadata": {},
   "source": [
    "# students-to-course-assigner"
   ]
  },
  {
   "cell_type": "markdown",
   "id": "9addbd73-519d-4566-8545-0ea7fb419675",
   "metadata": {},
   "source": [
    "## Imports"
   ]
  },
  {
   "cell_type": "code",
   "execution_count": null,
   "id": "5f1e028e-6a51-4776-b0d1-08f6adebacf1",
   "metadata": {},
   "outputs": [],
   "source": [
    "import os\n",
    "\n",
    "import pandas as pd\n",
    "from ortools.sat.python import cp_model\n",
    "import math\n",
    "from dataclasses import dataclass, field\n",
    "from typing import List\n",
    "from collections import defaultdict"
   ]
  },
  {
   "cell_type": "markdown",
   "id": "6bf719d0-c107-408b-bda2-633e0808a97a",
   "metadata": {},
   "source": [
    "## Data structures"
   ]
  },
  {
   "cell_type": "code",
   "execution_count": null,
   "id": "249f0ee7-fd76-48b9-95aa-4d02339d345d",
   "metadata": {},
   "outputs": [],
   "source": [
    "@dataclass\n",
    "class Student:\n",
    "    id_: int\n",
    "    first_name: str\n",
    "    last_name: str\n",
    "    class_: str\n",
    "    desired_courses: List[str]\n",
    "    assigned_course: str = None"
   ]
  },
  {
   "cell_type": "code",
   "execution_count": null,
   "id": "e0b28a7b-8fc5-45a9-bb75-abf932bd12e4",
   "metadata": {},
   "outputs": [],
   "source": [
    "@dataclass\n",
    "class Course:\n",
    "    id_: str\n",
    "    min_students: int\n",
    "    max_students: int\n",
    "    nb_wishes: int = 0\n",
    "    assigned_students: List[int] = field(default_factory=lambda : [])\n",
    "    def assign_if_possible(self, student):\n",
    "        if len(self.assigned_students) < self.max_students:\n",
    "            self.assigned_students += [student]\n",
    "            student.assigned_course = self"
   ]
  },
  {
   "cell_type": "markdown",
   "id": "ec291105-0f76-4d56-be1b-f295cbed0f69",
   "metadata": {},
   "source": [
    "## Read data"
   ]
  },
  {
   "cell_type": "code",
   "execution_count": null,
   "id": "4bb24b89-5f21-44c6-930f-a1a5723c1461",
   "metadata": {},
   "outputs": [],
   "source": [
    "def read_data(excel_file_name, module_type):\n",
    "    # read data from excel\n",
    "    if module_type not in [\"A\", \"B\"]:\n",
    "        raise ValueError(f\"module_type must be A or B, but is {module_type}\")\n",
    "    excel_path = os.path.join(\"data\", excel_file_name)\n",
    "    df_students = pd.read_excel(excel_path, sheet_name=\"Rohdaten\").fillna(\"\").reset_index()\n",
    "    df_courses = pd.read_excel(excel_path, sheet_name=\"Module\")\n",
    "    # collect students\n",
    "    student_per_student_id = {}\n",
    "    for e in df_students.to_dict(orient=\"records\"):\n",
    "        cs = []\n",
    "        for i in range(1, 5):\n",
    "            c = e[f\"Def {module_type} - {i}. Prio\"].replace(\" \", \"\")\n",
    "            cs += [c]\n",
    "        if not all(not c for c in cs):\n",
    "            if any(not c for c in cs):\n",
    "                print(f\"student has not all courses not defined, but any, is ignored: {e['index']}\")\n",
    "            else:\n",
    "                id_ = e[\"index\"]\n",
    "                student_per_student_id[id_] = Student(id_, e[\"Vorname\"], e[\"Name\"], e[\"Klasse\"], cs)\n",
    "        else:\n",
    "            if module_type != \"A\" or (e[\"Klasse\"].startswith(\"27\") and e[\"Klasse\"][3] not in [\"s\", \"t\"]):\n",
    "                print(f\"student has all courses not defined, is ignored: {e['index']}\")\n",
    "    print(f\"# students with valid data: {len(student_per_student_id)}\")\n",
    "    # collect courses\n",
    "    course_per_course_id = {}\n",
    "    for e in df_courses.to_dict(orient=\"records\"):\n",
    "        id_ = e[\"Module\"]\n",
    "        if id_.startswith(module_type):\n",
    "            course_per_course_id[id_] = Course(id_, e[\"Min\"], e[\"Max\"])\n",
    "    print(f\"# courses before harmonization: {len(course_per_course_id)}\")\n",
    "    # count wishes\n",
    "    nb_wishes_per_course_id = defaultdict(int)\n",
    "    for s in student_per_student_id.values():\n",
    "        for c_id in s.desired_courses:\n",
    "            nb_wishes_per_course_id[c_id] += 1\n",
    "    for c in course_per_course_id.values():\n",
    "        c.nb_wishes = nb_wishes_per_course_id[c.id_]\n",
    "    # remove courses with not enough wishes\n",
    "    courses_to_remove = []\n",
    "    for c in course_per_course_id.values():\n",
    "        if c.nb_wishes < c.min_students:\n",
    "            courses_to_remove += [c]\n",
    "    for c in courses_to_remove:\n",
    "        print(f\"course {c} has not enough wishes, is removed\")\n",
    "        for s in student_per_student_id.values():\n",
    "            if c.id_ in s.desired_courses:\n",
    "                s.desired_courses.remove(c.id_)\n",
    "        del course_per_course_id[c.id_]\n",
    "    print(f\"# courses after harmonization: {len(course_per_course_id)}\")\n",
    "    return student_per_student_id, course_per_course_id"
   ]
  },
  {
   "cell_type": "markdown",
   "id": "4b510b68-69a2-4f4b-9242-5eeed52f8809",
   "metadata": {},
   "source": [
    "## Assignment with or-tools"
   ]
  },
  {
   "cell_type": "code",
   "execution_count": null,
   "id": "0199fe09-5d2b-43e8-bb58-65b4a1c2745b",
   "metadata": {},
   "outputs": [],
   "source": [
    "def get_cost(student, course_id):\n",
    "    if course_id in student.desired_courses:\n",
    "        return student.desired_courses.index(course_id)\n",
    "    else:\n",
    "        return 1000"
   ]
  },
  {
   "cell_type": "code",
   "execution_count": null,
   "id": "75f54a32-d955-45fb-8268-b63ffaf1969b",
   "metadata": {},
   "outputs": [],
   "source": [
    "def assign_students_to_courses(student_per_student_id, course_per_course_id, excel_name_out):\n",
    "    # init assignment model\n",
    "    model = cp_model.CpModel()\n",
    "    # define boolean variables\n",
    "    x = {}\n",
    "    for student_ind, _ in enumerate(student_per_student_id.values()):\n",
    "        for course_ind, _ in enumerate(course_per_course_id.values()):\n",
    "            x[student_ind, course_ind] = model.NewBoolVar(f\"x[{student_ind},{course_ind}]\")\n",
    "    # each student is assigned to exactly one course.\n",
    "    for student_ind, _ in enumerate(student_per_student_id.values()):\n",
    "        model.AddExactlyOne(x[student_ind, course_ind] for (course_ind, course) in enumerate(course_per_course_id.values()))\n",
    "    # each course takes at most n students\n",
    "    for course_ind, course in enumerate(course_per_course_id.values()):\n",
    "        model.Add(sum([x[student_ind, course_ind] for (student_ind, _) in enumerate(student_per_student_id.values())]) >= course.min_students)\n",
    "        model.Add(sum([x[student_ind, course_ind] for (student_ind, _) in enumerate(student_per_student_id.values())]) <= course.max_students)\n",
    "    # objective function\n",
    "    objective_terms = []\n",
    "    for student_ind, student in enumerate(student_per_student_id.values()):\n",
    "        for course_ind, course in enumerate(course_per_course_id.values()):\n",
    "            objective_terms += [get_cost(student, course.id_) * x[student_ind, course_ind]]\n",
    "    model.Minimize(sum(objective_terms))\n",
    "    # solve\n",
    "    solver = cp_model.CpSolver()\n",
    "    status = solver.Solve(model)\n",
    "    print(solver.SolutionInfo())\n",
    "    print(solver.ResponseStats())\n",
    "    if status == cp_model.OPTIMAL or status == cp_model.FEASIBLE:\n",
    "        print(f\"total cost = {solver.ObjectiveValue()}\\n\")\n",
    "        # collect results from assignment\n",
    "        for student_ind, student in enumerate(student_per_student_id.values()):\n",
    "            for course_ind, course in enumerate(course_per_course_id.values()):\n",
    "                if solver.BooleanValue(x[student_ind, course_ind]):\n",
    "                    student.assigned_course = course.id_\n",
    "                    course.assigned_students += [student]\n",
    "        # statistics about students without course\n",
    "        students_without_course = [s for s in student_per_student_id.values() if s.assigned_course is None]\n",
    "        print(f\"# students without course: {len(students_without_course)}\")\n",
    "        # statistics about students without course\n",
    "        students_with_not_desired_course = [s for s in student_per_student_id.values() if not s.assigned_course in s.desired_courses]\n",
    "        print(f\"# students not with desired course: {len(students_with_not_desired_course)}\")\n",
    "        # statistics about courses with number of students not in min-max-range\n",
    "        for course in course_per_course_id.values():\n",
    "            nb_students = len(course.assigned_students)\n",
    "            if nb_students < course.min_students:\n",
    "                print(f\"not enough students: {course, nb_students}\")\n",
    "            if nb_students > course.max_students:\n",
    "                print(f\"too much students: {course, nb_students}\")\n",
    "        # statistics about courses\n",
    "        course_statistics = []\n",
    "        for c in course_per_course_id.values():\n",
    "            course_statistics += [[c.id_, c.min_students, c.max_students, c.nb_wishes, len(c.assigned_students)]]\n",
    "        df_course_statistics = pd.DataFrame(course_statistics, columns=[\"course_id\", \"min_students\", \"max_students\", \"nb_wishes\", \"nb_students_assigned\"])\n",
    "        # statistics about students\n",
    "        nb_students_per_priority = defaultdict(int)  \n",
    "        students_infos = []\n",
    "        for s in student_per_student_id.values():\n",
    "            if s.assigned_course in s.desired_courses:\n",
    "                nb_students_per_priority[s.desired_courses.index(s.assigned_course)] += 1\n",
    "                ind = s.desired_courses.index(s.assigned_course)\n",
    "            else:\n",
    "                nb_students_per_priority[\"not_desired\"] += 1\n",
    "                ind = \"None\"\n",
    "            students_infos += [[s.id_, s.first_name, s.last_name, s.class_, \",\".join(s.desired_courses), s.assigned_course, ind]]\n",
    "        df_students = pd.DataFrame(students_infos, columns=[\"student_id\", \"first_name\", \"last_name\", \"class\", \"desired_courses\", \"assigned_course\", \"priority\"])        \n",
    "        df_student_statistics = pd.DataFrame(sorted(nb_students_per_priority.items(), key=lambda x: str(x[0])), columns=[\"priority\", \"nb_students\"])\n",
    "        if not os.path.exists(\"out\"):\n",
    "            # If it doesn't exist, create the folder\n",
    "            os.makedirs(\"out\")\n",
    "        with pd.ExcelWriter(os.path.join(\"out\", excel_name_out)) as writer:\n",
    "            df_course_statistics.to_excel(writer, sheet_name='course_statistics', index=False)\n",
    "            df_student_statistics.to_excel(writer, sheet_name='student_statistics', index=False)\n",
    "            df_students.to_excel(writer, sheet_name='students', index=False)\n",
    "        return df_course_statistics, df_student_statistics, df_students\n",
    "    else:\n",
    "        print(\"No solution found.\")\n",
    "        return None, None, None"
   ]
  },
  {
   "cell_type": "markdown",
   "id": "e61ac738-0353-4e5e-bca1-da502994195d",
   "metadata": {},
   "source": [
    "## Execution"
   ]
  },
  {
   "cell_type": "code",
   "execution_count": null,
   "id": "6b6afe2a-588e-47bb-a170-01c5c3cc1170",
   "metadata": {},
   "outputs": [],
   "source": [
    "MODULE_TYPE = \"B\""
   ]
  },
  {
   "cell_type": "code",
   "execution_count": null,
   "id": "9254b09c-c37b-4ebc-bd7a-4183ef8bf89b",
   "metadata": {},
   "outputs": [],
   "source": [
    "student_per_student_id, course_per_course_id = read_data(\"InputNeufeld_Dez2023_erw.xlsx\", MODULE_TYPE)"
   ]
  },
  {
   "cell_type": "code",
   "execution_count": null,
   "id": "71c8e2ea-73f0-465b-8fba-59b303eac713",
   "metadata": {},
   "outputs": [],
   "source": [
    "df_course_statistics, df_student_statistics, df_students = assign_students_to_courses(student_per_student_id, course_per_course_id, f\"result_{MODULE_TYPE}_erw.xlsx\")"
   ]
  },
  {
   "cell_type": "code",
   "execution_count": null,
   "id": "7232070b-c038-4301-bd9d-0997a28c9376",
   "metadata": {},
   "outputs": [],
   "source": [
    "df_course_statistics"
   ]
  },
  {
   "cell_type": "code",
   "execution_count": null,
   "id": "d78031f7-5d4e-426d-ba2b-95b96abce028",
   "metadata": {},
   "outputs": [],
   "source": [
    "df_student_statistics"
   ]
  },
  {
   "cell_type": "code",
   "execution_count": null,
   "id": "73283d7a-fabb-4fcc-aed6-0dcb39d7686e",
   "metadata": {},
   "outputs": [],
   "source": [
    "df_students"
   ]
  },
  {
   "cell_type": "code",
   "execution_count": null,
   "id": "e5a72a77-7e42-4320-bfc4-4543a8f019ff",
   "metadata": {},
   "outputs": [],
   "source": []
  }
 ],
 "metadata": {
  "kernelspec": {
   "display_name": "Python 3 (ipykernel)",
   "language": "python",
   "name": "python3"
  },
  "language_info": {
   "codemirror_mode": {
    "name": "ipython",
    "version": 3
   },
   "file_extension": ".py",
   "mimetype": "text/x-python",
   "name": "python",
   "nbconvert_exporter": "python",
   "pygments_lexer": "ipython3",
   "version": "3.8.1"
  }
 },
 "nbformat": 4,
 "nbformat_minor": 5
}

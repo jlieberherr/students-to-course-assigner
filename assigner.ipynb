{
 "cells": [
  {
   "cell_type": "markdown",
   "id": "4926d3d8-9495-4628-a71d-a29a9459b984",
   "metadata": {},
   "source": [
    "# students-to-course-assigner"
   ]
  },
  {
   "cell_type": "markdown",
   "id": "9addbd73-519d-4566-8545-0ea7fb419675",
   "metadata": {},
   "source": [
    "## Imports"
   ]
  },
  {
   "cell_type": "code",
   "execution_count": null,
   "id": "5f1e028e-6a51-4776-b0d1-08f6adebacf1",
   "metadata": {},
   "outputs": [],
   "source": [
    "import os\n",
    "\n",
    "import pandas as pd\n",
    "import math\n",
    "\n",
    "from dataclasses import dataclass, field\n",
    "from typing import List\n",
    "\n",
    "import random\n",
    "\n",
    "from collections import defaultdict"
   ]
  },
  {
   "cell_type": "markdown",
   "id": "ec291105-0f76-4d56-be1b-f295cbed0f69",
   "metadata": {},
   "source": [
    "## Read data"
   ]
  },
  {
   "cell_type": "code",
   "execution_count": null,
   "id": "62d8de20-07ea-41f2-9df9-03f91233294a",
   "metadata": {},
   "outputs": [],
   "source": [
    "excel_path = os.path.join(\"data\", \"InputNeufeld_Dez2023.xlsx\")"
   ]
  },
  {
   "cell_type": "code",
   "execution_count": null,
   "id": "689dd412-3a1e-43ce-816a-cf1269ae97fe",
   "metadata": {},
   "outputs": [],
   "source": [
    "df_students = pd.read_excel(excel_path, sheet_name=\"Rohdaten\").fillna(\"\").reset_index()\n",
    "df_courses = pd.read_excel(excel_path, sheet_name=\"Module\")"
   ]
  },
  {
   "cell_type": "code",
   "execution_count": null,
   "id": "8073d331-7359-4cbc-ab1b-bdbe80656713",
   "metadata": {},
   "outputs": [],
   "source": [
    "df_students.head()"
   ]
  },
  {
   "cell_type": "code",
   "execution_count": null,
   "id": "e1d25bc7-4bcf-4e20-b788-dec942ca2098",
   "metadata": {},
   "outputs": [],
   "source": [
    "df_courses.head().fillna(\"\")"
   ]
  },
  {
   "cell_type": "code",
   "execution_count": null,
   "id": "249f0ee7-fd76-48b9-95aa-4d02339d345d",
   "metadata": {},
   "outputs": [],
   "source": [
    "@dataclass\n",
    "class Student:\n",
    "    id_: int\n",
    "    first_name: str\n",
    "    last_name: str\n",
    "    desired_courses: List[str]\n",
    "    assigned_course: str = None"
   ]
  },
  {
   "cell_type": "code",
   "execution_count": null,
   "id": "57dc7e8d-3508-4181-b9c1-f9a0b553d4dd",
   "metadata": {},
   "outputs": [],
   "source": [
    "s = Student(1, \"j\", \"l\", [\"a1\", \"a2\", \"a3\"])"
   ]
  },
  {
   "cell_type": "code",
   "execution_count": null,
   "id": "b46564b1-915c-44a4-917d-c9bb648c144d",
   "metadata": {},
   "outputs": [],
   "source": [
    "s"
   ]
  },
  {
   "cell_type": "code",
   "execution_count": null,
   "id": "a814330c-7070-47d2-9695-d32974ceb5f0",
   "metadata": {},
   "outputs": [],
   "source": [
    "student_per_student_id = {}\n",
    "for e in df_students.to_dict(orient=\"records\"):\n",
    "    cs = []\n",
    "    for i in range(1, 5):\n",
    "        c = e[f\"Def B - {i}. Prio\"].replace(\" \", \"\")\n",
    "        cs += [c]\n",
    "    if not all(not c for c in cs):\n",
    "        if any(not c for c in cs):\n",
    "            print(f\"student has not all courses not defined, but any: {e}\")\n",
    "        else:\n",
    "            id_ = e[\"index\"]\n",
    "            student_per_student_id[id_] = Student(id_, e[\"Vorname\"], e[\"Name\"], cs)\n",
    "    else:\n",
    "        print(f\"student has all courses not defined: {e}\")"
   ]
  },
  {
   "cell_type": "code",
   "execution_count": null,
   "id": "0a1c2dca-947a-4a62-bf7f-fcb5c8a1e949",
   "metadata": {},
   "outputs": [],
   "source": [
    "print(len(student_per_student_id))"
   ]
  },
  {
   "cell_type": "code",
   "execution_count": null,
   "id": "e0b28a7b-8fc5-45a9-bb75-abf932bd12e4",
   "metadata": {},
   "outputs": [],
   "source": [
    "@dataclass\n",
    "class Course:\n",
    "    id_: str\n",
    "    min_students: int\n",
    "    max_students: int\n",
    "    nb_wishes: int = 0\n",
    "    assigned_students: List[int] = field(default_factory=lambda : [])\n",
    "    def assign_if_possible(self, student):\n",
    "        if len(self.assigned_students) < self.max_students:\n",
    "            self.assigned_students += [student]\n",
    "            student.assigned_course = self"
   ]
  },
  {
   "cell_type": "code",
   "execution_count": null,
   "id": "866e6b98-2114-4c3d-bebb-8977fe362cc4",
   "metadata": {},
   "outputs": [],
   "source": [
    "course_per_course_id = {}\n",
    "for e in df_courses.to_dict(orient=\"records\"):\n",
    "    id_ = e[\"Module\"]\n",
    "    if id_.startswith(\"B\"):\n",
    "        course_per_course_id[id_] = Course(id_, e[\"Min\"], e[\"Max\"])"
   ]
  },
  {
   "cell_type": "code",
   "execution_count": null,
   "id": "017152cb-836e-4612-b49d-d960502a9b48",
   "metadata": {},
   "outputs": [],
   "source": [
    "print(len(course_per_course_id))"
   ]
  },
  {
   "cell_type": "code",
   "execution_count": null,
   "id": "797047fd-202e-4c6b-aa3b-03f064fec5bd",
   "metadata": {},
   "outputs": [],
   "source": [
    "nb_wishes_per_course_id = defaultdict(int)\n",
    "for s in student_per_student_id.values():\n",
    "    for c_id in s.desired_courses:\n",
    "        nb_wishes_per_course_id[c_id] += 1\n",
    "for c in course_per_course_id.values():\n",
    "    c.nb_wishes = nb_wishes_per_course_id[c.id_]"
   ]
  },
  {
   "cell_type": "code",
   "execution_count": null,
   "id": "69d67a0a-c12f-44f8-bc30-b17229019e5f",
   "metadata": {},
   "outputs": [],
   "source": [
    "def init_assignment():\n",
    "    for s in student_per_student_id.values():\n",
    "        s.assigned_course = None\n",
    "    for c in course_per_course_id.values():\n",
    "        c.assigned_students = []"
   ]
  },
  {
   "cell_type": "code",
   "execution_count": null,
   "id": "39dacf73-2281-4a44-931d-23546a84b0fd",
   "metadata": {},
   "outputs": [],
   "source": [
    "def shuffle_list(ls):\n",
    "    random.shuffle(ls)\n",
    "    return ls"
   ]
  },
  {
   "cell_type": "code",
   "execution_count": null,
   "id": "23e3708d-da4e-4564-b570-e4e960e8076d",
   "metadata": {},
   "outputs": [],
   "source": [
    "init_assignment()\n",
    "for s in shuffle_list(list(student_per_student_id.values())):\n",
    "    n = len(s.desired_courses)\n",
    "    a_desired_course = s.desired_courses[random.randint(0, n-1)]\n",
    "    course = course_per_course_id[a_desired_course]\n",
    "    course.assign_if_possible(s)"
   ]
  },
  {
   "cell_type": "code",
   "execution_count": null,
   "id": "b28ee7f0-30a8-48c3-9104-c63c69d28615",
   "metadata": {},
   "outputs": [],
   "source": [
    "students_without_course = [s for s in student_per_student_id.values() if s.assigned_course is None]\n",
    "print(len(students_without_course))"
   ]
  },
  {
   "cell_type": "code",
   "execution_count": null,
   "id": "13625702-76ae-4515-a7f1-e5084fca3208",
   "metadata": {},
   "outputs": [],
   "source": [
    "for c in course_per_course_id.values():\n",
    "    print(c.id_, c.min_students, c.max_students, c.nb_wishes / 4, len(c.assigned_students), c.nb_wishes < c.min_students)"
   ]
  }
 ],
 "metadata": {
  "kernelspec": {
   "display_name": "Python 3 (ipykernel)",
   "language": "python",
   "name": "python3"
  },
  "language_info": {
   "codemirror_mode": {
    "name": "ipython",
    "version": 3
   },
   "file_extension": ".py",
   "mimetype": "text/x-python",
   "name": "python",
   "nbconvert_exporter": "python",
   "pygments_lexer": "ipython3",
   "version": "3.8.1"
  }
 },
 "nbformat": 4,
 "nbformat_minor": 5
}
